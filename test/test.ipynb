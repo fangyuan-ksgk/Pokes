{
 "cells": [
  {
   "cell_type": "code",
   "execution_count": 8,
   "metadata": {},
   "outputs": [
    {
     "name": "stderr",
     "output_type": "stream",
     "text": [
      "230655   pyboy.plugins.window_headless  WARNING  This window type does not support frame-limiting. `pyboy.set_emulation_speed(...)` will have no effect, as it's always running at full speed.\n"
     ]
    },
    {
     "ename": "KeyError",
     "evalue": "'escape_battle'",
     "output_type": "error",
     "traceback": [
      "\u001b[0;31m---------------------------------------------------------------------------\u001b[0m",
      "\u001b[0;31mKeyError\u001b[0m                                  Traceback (most recent call last)",
      "Cell \u001b[0;32mIn[8], line 23\u001b[0m\n\u001b[1;32m     14\u001b[0m state_file \u001b[38;5;241m=\u001b[39m init_states[\u001b[38;5;241m0\u001b[39m]\n\u001b[1;32m     16\u001b[0m env_config \u001b[38;5;241m=\u001b[39m {\n\u001b[1;32m     17\u001b[0m                 \u001b[38;5;124m'\u001b[39m\u001b[38;5;124mheadless\u001b[39m\u001b[38;5;124m'\u001b[39m: headless, \u001b[38;5;124m'\u001b[39m\u001b[38;5;124msave_final_state\u001b[39m\u001b[38;5;124m'\u001b[39m: \u001b[38;5;28;01mTrue\u001b[39;00m, \u001b[38;5;124m'\u001b[39m\u001b[38;5;124mearly_stop\u001b[39m\u001b[38;5;124m'\u001b[39m: \u001b[38;5;28;01mFalse\u001b[39;00m,\n\u001b[1;32m     18\u001b[0m                 \u001b[38;5;124m'\u001b[39m\u001b[38;5;124maction_freq\u001b[39m\u001b[38;5;124m'\u001b[39m: \u001b[38;5;241m24\u001b[39m, \u001b[38;5;124m'\u001b[39m\u001b[38;5;124minit_state\u001b[39m\u001b[38;5;124m'\u001b[39m: state_file, \u001b[38;5;124m'\u001b[39m\u001b[38;5;124mmax_steps\u001b[39m\u001b[38;5;124m'\u001b[39m: ep_length, \n\u001b[1;32m     19\u001b[0m                 \u001b[38;5;124m'\u001b[39m\u001b[38;5;124mprint_rewards\u001b[39m\u001b[38;5;124m'\u001b[39m: \u001b[38;5;28;01mTrue\u001b[39;00m, \u001b[38;5;124m'\u001b[39m\u001b[38;5;124msave_video\u001b[39m\u001b[38;5;124m'\u001b[39m: \u001b[38;5;28;01mFalse\u001b[39;00m, \u001b[38;5;124m'\u001b[39m\u001b[38;5;124mfast_video\u001b[39m\u001b[38;5;124m'\u001b[39m: \u001b[38;5;28;01mTrue\u001b[39;00m, \u001b[38;5;124m'\u001b[39m\u001b[38;5;124msession_path\u001b[39m\u001b[38;5;124m'\u001b[39m: sess_path,\n\u001b[1;32m     20\u001b[0m                 \u001b[38;5;124m'\u001b[39m\u001b[38;5;124mgb_path\u001b[39m\u001b[38;5;124m'\u001b[39m: \u001b[38;5;124mf\u001b[39m\u001b[38;5;124m'\u001b[39m\u001b[38;5;132;01m{\u001b[39;00mbase_dir\u001b[38;5;132;01m}\u001b[39;00m\u001b[38;5;124m/game/PokemonRed.gb\u001b[39m\u001b[38;5;124m'\u001b[39m, \u001b[38;5;124m'\u001b[39m\u001b[38;5;124mdebug\u001b[39m\u001b[38;5;124m'\u001b[39m: \u001b[38;5;28;01mFalse\u001b[39;00m, \u001b[38;5;124m'\u001b[39m\u001b[38;5;124msim_frame_dist\u001b[39m\u001b[38;5;124m'\u001b[39m: \u001b[38;5;241m2_000_000.0\u001b[39m, \u001b[38;5;124m'\u001b[39m\u001b[38;5;124mextra_buttons\u001b[39m\u001b[38;5;124m'\u001b[39m: \u001b[38;5;28;01mFalse\u001b[39;00m,\n\u001b[1;32m     21\u001b[0m             }\n\u001b[0;32m---> 23\u001b[0m env \u001b[38;5;241m=\u001b[39m \u001b[43mGroundEnv\u001b[49m\u001b[43m(\u001b[49m\u001b[43menv_config\u001b[49m\u001b[43m)\u001b[49m\n",
      "File \u001b[0;32m~/Implementation/Agent/Pokes/increment.py:44\u001b[0m, in \u001b[0;36mGroundEnv.__init__\u001b[0;34m(self, env_config)\u001b[0m\n\u001b[1;32m     42\u001b[0m \u001b[38;5;66;03m# Ant Colony algorithm for Path Finding\u001b[39;00m\n\u001b[1;32m     43\u001b[0m \u001b[38;5;28mself\u001b[39m\u001b[38;5;241m.\u001b[39mmapAC \u001b[38;5;241m=\u001b[39m \u001b[38;5;28mself\u001b[39m\u001b[38;5;241m.\u001b[39m_init_map_ac()\n\u001b[0;32m---> 44\u001b[0m \u001b[38;5;28;43msuper\u001b[39;49m\u001b[43m(\u001b[49m\u001b[43m)\u001b[49m\u001b[38;5;241;43m.\u001b[39;49m\u001b[38;5;21;43m__init__\u001b[39;49m\u001b[43m(\u001b[49m\u001b[43menv_config\u001b[49m\u001b[43m)\u001b[49m\n\u001b[1;32m     45\u001b[0m \u001b[38;5;28mself\u001b[39m\u001b[38;5;241m.\u001b[39msub_policy \u001b[38;5;241m=\u001b[39m \u001b[38;5;28mself\u001b[39m\u001b[38;5;241m.\u001b[39m_determine_sub_policy()\n",
      "File \u001b[0;32m~/Implementation/Agent/Pokes/red_gym_env.py:116\u001b[0m, in \u001b[0;36mRedGymEnv.__init__\u001b[0;34m(self, config)\u001b[0m\n\u001b[1;32m    113\u001b[0m \u001b[38;5;28;01mif\u001b[39;00m \u001b[38;5;129;01mnot\u001b[39;00m config[\u001b[38;5;124m'\u001b[39m\u001b[38;5;124mheadless\u001b[39m\u001b[38;5;124m'\u001b[39m]:\n\u001b[1;32m    114\u001b[0m     \u001b[38;5;28mself\u001b[39m\u001b[38;5;241m.\u001b[39mpyboy\u001b[38;5;241m.\u001b[39mset_emulation_speed(\u001b[38;5;241m12\u001b[39m)\n\u001b[0;32m--> 116\u001b[0m \u001b[38;5;28;43mself\u001b[39;49m\u001b[38;5;241;43m.\u001b[39;49m\u001b[43mreset\u001b[49m\u001b[43m(\u001b[49m\u001b[43m)\u001b[49m\n",
      "File \u001b[0;32m~/Implementation/Agent/Pokes/red_gym_env.py:161\u001b[0m, in \u001b[0;36mRedGymEnv.reset\u001b[0;34m(self, seed)\u001b[0m\n\u001b[1;32m    159\u001b[0m \u001b[38;5;28mself\u001b[39m\u001b[38;5;241m.\u001b[39mstep_count \u001b[38;5;241m=\u001b[39m \u001b[38;5;241m0\u001b[39m\n\u001b[1;32m    160\u001b[0m \u001b[38;5;28mself\u001b[39m\u001b[38;5;241m.\u001b[39mdone_count \u001b[38;5;241m=\u001b[39m \u001b[38;5;241m0\u001b[39m\n\u001b[0;32m--> 161\u001b[0m \u001b[38;5;28mself\u001b[39m\u001b[38;5;241m.\u001b[39mprogress_reward \u001b[38;5;241m=\u001b[39m \u001b[38;5;28;43mself\u001b[39;49m\u001b[38;5;241;43m.\u001b[39;49m\u001b[43mget_game_state_reward\u001b[49m\u001b[43m(\u001b[49m\u001b[43m)\u001b[49m\n\u001b[1;32m    162\u001b[0m \u001b[38;5;28mself\u001b[39m\u001b[38;5;241m.\u001b[39mtotal_reward \u001b[38;5;241m=\u001b[39m \u001b[38;5;28msum\u001b[39m([val \u001b[38;5;28;01mfor\u001b[39;00m _, val \u001b[38;5;129;01min\u001b[39;00m \u001b[38;5;28mself\u001b[39m\u001b[38;5;241m.\u001b[39mprogress_reward\u001b[38;5;241m.\u001b[39mitems()])\n\u001b[1;32m    163\u001b[0m \u001b[38;5;28mself\u001b[39m\u001b[38;5;241m.\u001b[39mreset_count \u001b[38;5;241m+\u001b[39m\u001b[38;5;241m=\u001b[39m \u001b[38;5;241m1\u001b[39m\n",
      "File \u001b[0;32m~/Implementation/Agent/Pokes/increment.py:242\u001b[0m, in \u001b[0;36mGroundEnv.get_game_state_reward\u001b[0;34m(self, print_stats)\u001b[0m\n\u001b[1;32m    236\u001b[0m rewards[\u001b[38;5;124m'\u001b[39m\u001b[38;5;124mexistence\u001b[39m\u001b[38;5;124m'\u001b[39m] \u001b[38;5;241m-\u001b[39m\u001b[38;5;241m=\u001b[39m \u001b[38;5;241m0.1\u001b[39m\n\u001b[1;32m    238\u001b[0m \u001b[38;5;66;03m# (LLM) Calculate rewards for each sub-policy\u001b[39;00m\n\u001b[1;32m    239\u001b[0m \n\u001b[1;32m    240\u001b[0m \n\u001b[1;32m    241\u001b[0m \u001b[38;5;66;03m# Escape Battle -- Reward for escaping battle\u001b[39;00m\n\u001b[0;32m--> 242\u001b[0m \u001b[38;5;28;01mif\u001b[39;00m \u001b[43mstatus\u001b[49m\u001b[43m[\u001b[49m\u001b[38;5;124;43m'\u001b[39;49m\u001b[38;5;124;43mescape_battle\u001b[39;49m\u001b[38;5;124;43m'\u001b[39;49m\u001b[43m]\u001b[49m:\n\u001b[1;32m    243\u001b[0m     rewards[\u001b[38;5;124m'\u001b[39m\u001b[38;5;124mescape_battle\u001b[39m\u001b[38;5;124m'\u001b[39m] \u001b[38;5;241m+\u001b[39m\u001b[38;5;241m=\u001b[39m \u001b[38;5;241m10\u001b[39m\n\u001b[1;32m    244\u001b[0m     \u001b[38;5;66;03m# print('----Escaped Alive!')\u001b[39;00m\n\u001b[1;32m    245\u001b[0m \n\u001b[1;32m    246\u001b[0m \u001b[38;5;66;03m# Full-Health Recover -- After Escape Battle, Visit Pokemon Center\u001b[39;00m\n",
      "\u001b[0;31mKeyError\u001b[0m: 'escape_battle'"
     ]
    }
   ],
   "source": [
    "import sys\n",
    "base_dir = '/Users/fangyuanyu/Implementation/Agent/Pokes'\n",
    "sys.path.append(base_dir)\n",
    "\n",
    "import os, glob\n",
    "from increment import GroundEnv\n",
    "from pathlib import Path\n",
    "\n",
    "sess_path = Path(f'{base_dir}/logs/session_play')\n",
    "ep_length = 2024*10\n",
    "headless = True\n",
    "init_state_folder = f'{base_dir}/logs/session_trainer/lack_of_health_states'\n",
    "init_states = glob.glob(init_state_folder+'/*.state')\n",
    "state_file = init_states[0]\n",
    "\n",
    "env_config = {\n",
    "                'headless': headless, 'save_final_state': True, 'early_stop': False,\n",
    "                'action_freq': 24, 'init_state': state_file, 'max_steps': ep_length, \n",
    "                'print_rewards': True, 'save_video': False, 'fast_video': True, 'session_path': sess_path,\n",
    "                'gb_path': f'{base_dir}/game/PokemonRed.gb', 'debug': False, 'sim_frame_dist': 2_000_000.0, 'extra_buttons': False,\n",
    "            }\n",
    "\n",
    "env = GroundEnv(env_config)\n"
   ]
  },
  {
   "cell_type": "code",
   "execution_count": null,
   "metadata": {},
   "outputs": [],
   "source": []
  },
  {
   "cell_type": "code",
   "execution_count": null,
   "metadata": {},
   "outputs": [],
   "source": []
  }
 ],
 "metadata": {
  "kernelspec": {
   "display_name": "pokes",
   "language": "python",
   "name": "pokey"
  },
  "language_info": {
   "codemirror_mode": {
    "name": "ipython",
    "version": 3
   },
   "file_extension": ".py",
   "mimetype": "text/x-python",
   "name": "python",
   "nbconvert_exporter": "python",
   "pygments_lexer": "ipython3",
   "version": "3.11.5"
  }
 },
 "nbformat": 4,
 "nbformat_minor": 2
}
